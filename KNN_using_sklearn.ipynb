{
  "nbformat": 4,
  "nbformat_minor": 0,
  "metadata": {
    "colab": {
      "name": "KNN using sklearn",
      "provenance": [],
      "collapsed_sections": [],
      "toc_visible": true,
      "authorship_tag": "ABX9TyPj9xeYNKY+ePGugX4zSbvy",
      "include_colab_link": true
    },
    "kernelspec": {
      "name": "python3",
      "display_name": "Python 3"
    }
  },
  "cells": [
    {
      "cell_type": "markdown",
      "metadata": {
        "id": "view-in-github",
        "colab_type": "text"
      },
      "source": [
        "<a href=\"https://colab.research.google.com/github/HarshadNSuthar/KNN-using-Sklerarn/blob/master/KNN_using_sklearn.ipynb\" target=\"_parent\"><img src=\"https://colab.research.google.com/assets/colab-badge.svg\" alt=\"Open In Colab\"/></a>"
      ]
    },
    {
      "cell_type": "code",
      "metadata": {
        "id": "QMFcafawfgWu",
        "colab_type": "code",
        "colab": {}
      },
      "source": [
        "#Import Data sents"
      ],
      "execution_count": 0,
      "outputs": []
    },
    {
      "cell_type": "code",
      "metadata": {
        "id": "hjaOuTVlfrpb",
        "colab_type": "code",
        "colab": {}
      },
      "source": [
        "import sklearn.datasets as datasets\n",
        "\n",
        "from sklearn.model_selection import train_test_split\n",
        "\n",
        "from sklearn.neighbors import KNeighborsClassifier"
      ],
      "execution_count": 0,
      "outputs": []
    },
    {
      "cell_type": "code",
      "metadata": {
        "id": "3ho0C-HCfsFJ",
        "colab_type": "code",
        "colab": {}
      },
      "source": [
        "cancer = datasets.load_breast_cancer()"
      ],
      "execution_count": 0,
      "outputs": []
    },
    {
      "cell_type": "code",
      "metadata": {
        "id": "qZh6H38BftyK",
        "colab_type": "code",
        "colab": {}
      },
      "source": [
        "#build Model"
      ],
      "execution_count": 0,
      "outputs": []
    },
    {
      "cell_type": "code",
      "metadata": {
        "id": "iK3KXGkBfvm4",
        "colab_type": "code",
        "colab": {}
      },
      "source": [
        "X_train, X_test, Y_train, Y_test = train_test_split(cancer.data, cancer.target,\n",
        "           stratify=cancer.target,                  random_state=42)\n",
        "\n",
        "knn_classifier = KNeighborsClassifier()   \n",
        "\n",
        "knn_classifier = knn_classifier.fit(X_train, Y_train)"
      ],
      "execution_count": 0,
      "outputs": []
    },
    {
      "cell_type": "code",
      "metadata": {
        "id": "5_NrRMVvf6rK",
        "colab_type": "code",
        "colab": {}
      },
      "source": [
        "#Determining Accuracy of the Model"
      ],
      "execution_count": 0,
      "outputs": []
    },
    {
      "cell_type": "code",
      "metadata": {
        "id": "fv2IFmT4gFL7",
        "colab_type": "code",
        "outputId": "83f28f80-c99f-4d35-a531-a39fec636a05",
        "colab": {
          "base_uri": "https://localhost:8080/",
          "height": 51
        }
      },
      "source": [
        "print('Accuracy of Train Data :', knn_classifier.score(X_train,Y_train))\n",
        "print('Accuracy of Test Data :', knn_classifier.score(X_test,Y_test))"
      ],
      "execution_count": 0,
      "outputs": [
        {
          "output_type": "stream",
          "text": [
            "Accuracy of Train Data : 0.9460093896713615\n",
            "Accuracy of Test Data : 0.9300699300699301\n"
          ],
          "name": "stdout"
        }
      ]
    },
    {
      "cell_type": "code",
      "metadata": {
        "id": "P2Vb2A56gHZ7",
        "colab_type": "code",
        "colab": {}
      },
      "source": [
        ""
      ],
      "execution_count": 0,
      "outputs": []
    }
  ]
}